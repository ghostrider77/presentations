{
 "cells": [
  {
   "cell_type": "markdown",
   "metadata": {
    "slideshow": {
     "slide_type": "slide"
    }
   },
   "source": [
    "## Case classes and pattern matching"
   ]
  },
  {
   "cell_type": "markdown",
   "metadata": {
    "slideshow": {
     "slide_type": "slide"
    }
   },
   "source": [
    "### Case classes versus ordinary classes\n",
    "\n",
    "* what are case classes\n",
    "* what are they good for"
   ]
  },
  {
   "cell_type": "code",
   "execution_count": null,
   "metadata": {
    "slideshow": {
     "slide_type": "slide"
    }
   },
   "outputs": [],
   "source": [
    "class Person(val name: String, age: Int, socialSecurityNumber: Long) {\n",
    "  import Person._\n",
    "    \n",
    "  val isPensioner: Boolean = age >= 65\n",
    "    \n",
    "  lazy val hasValidSSN: Boolean = longLastingQueryOfDatabase(socialSecurityNumber)\n",
    "}\n",
    "\n",
    "object Person {\n",
    "  def longLastingQueryOfDatabase(ssn: Long): Boolean = {\n",
    "    // insert long code here\n",
    "    ???\n",
    "  }\n",
    "}"
   ]
  },
  {
   "cell_type": "code",
   "execution_count": null,
   "metadata": {
    "slideshow": {
     "slide_type": "fragment"
    }
   },
   "outputs": [],
   "source": [
    "val p1 = new Person(\"John\", 50, 123456789L)\n",
    "val p2 = new Person(\"John\", 50, 123456789L)\n",
    "println(p1)\n",
    "println(p2 == p1)\n",
    "println(Set(p1, p2).size)"
   ]
  },
  {
   "cell_type": "code",
   "execution_count": null,
   "metadata": {
    "slideshow": {
     "slide_type": "slide"
    }
   },
   "outputs": [],
   "source": [
    "case class Person(name: String, age: Int, socialSecurityNumber: Long) {\n",
    "  import Person._\n",
    "    \n",
    "  val isPensioner: Boolean = age >= 65\n",
    "    \n",
    "  lazy val isValidSSN: Boolean = longLastringQueryOfDatabase(socialSecurityNumber)\n",
    "}\n",
    "\n",
    "object Person {\n",
    "  def longLastringQueryOfDatabase(ssn: Long): Boolean = ???\n",
    "}"
   ]
  },
  {
   "cell_type": "code",
   "execution_count": null,
   "metadata": {
    "slideshow": {
     "slide_type": "fragment"
    }
   },
   "outputs": [],
   "source": [
    "val p1 = Person(\"John\", 50, 123456789L)\n",
    "val p2 = Person(name = \"John\", age = 50, socialSecurityNumber = 123456789L)\n",
    "println(p1)\n",
    "println(p1 == p2)\n",
    "println(Set(p1, p2).size)"
   ]
  },
  {
   "cell_type": "markdown",
   "metadata": {
    "collapsed": true,
    "slideshow": {
     "slide_type": "slide"
    }
   },
   "source": [
    "Case classes can be seen as immutable data-storing objects that  depend on their constructor arguments only. Those arguments are automatically become fields / methods of the class.\n",
    "\n",
    "This functional concept allows us to\n",
    "* use a compact initialisation syntax (without the `new` keyword)\n",
    "* decompose them using **pattern matching**\n",
    "* have equality comparisons and toString method defined\n",
    "\n",
    "If a class performs stateful computations inside or exhibits other kinds of complex behaviour, it should be an ordinary class."
   ]
  },
  {
   "cell_type": "code",
   "execution_count": null,
   "metadata": {
    "slideshow": {
     "slide_type": "slide"
    }
   },
   "outputs": [],
   "source": [
    "sealed abstract class Tree {\n",
    "  def isEmpty: Boolean\n",
    "}\n",
    "\n",
    "case class Node(value: Int, left: Tree, right: Tree) extends Tree {\n",
    "  def isEmpty: Boolean = false\n",
    "  \n",
    "  override def toString: String = value + left.toString + right.toString // preorder traversal\n",
    "}\n",
    "\n",
    "case object Empty extends Tree {\n",
    "  def isEmpty: Boolean = true\n",
    "  \n",
    "  override def toString: String = \".\"\n",
    "}"
   ]
  },
  {
   "cell_type": "code",
   "execution_count": null,
   "metadata": {
    "slideshow": {
     "slide_type": "fragment"
    }
   },
   "outputs": [],
   "source": [
    "val myTree: Tree = Node(5, \n",
    "                        Node(4, \n",
    "                             Node(1, Empty, Empty), \n",
    "                             Node(2, Empty, Empty)), \n",
    "                        Node(6, Empty, Empty))\n",
    "println(myTree)"
   ]
  },
  {
   "cell_type": "markdown",
   "metadata": {
    "slideshow": {
     "slide_type": "slide"
    }
   },
   "source": [
    "### Pattern matching\n",
    "\n",
    "* syntax: selector `match` { alternatives }\n",
    "* match is a `switch` on steroids\n",
    "* match is an expression, that is, it always results in a value\n",
    "* it does not fall-through\n",
    "* if none of the alternatives match, an MatchError exception will be thrown"
   ]
  },
  {
   "cell_type": "markdown",
   "metadata": {
    "slideshow": {
     "slide_type": "slide"
    }
   },
   "source": [
    "#### Constant patterns\n",
    "\n",
    "Any literal can be used as a pattern. A constant pattern matches only with itself."
   ]
  },
  {
   "cell_type": "code",
   "execution_count": null,
   "metadata": {
    "slideshow": {
     "slide_type": "fragment"
    }
   },
   "outputs": [],
   "source": [
    "def writeOutNumbers(x: Int): String = x match {\n",
    "  case 0 => \"zero\"\n",
    "  case 1 => \"one\"\n",
    "  case 2 => \"two\"\n",
    "  case _ => \"many (or maybe negative?)\"  // wildcard pattern\n",
    "}"
   ]
  },
  {
   "cell_type": "code",
   "execution_count": null,
   "metadata": {
    "slideshow": {
     "slide_type": "fragment"
    }
   },
   "outputs": [],
   "source": [
    "println(writeOutNumbers(1))\n",
    "println(writeOutNumbers(-3))"
   ]
  },
  {
   "cell_type": "markdown",
   "metadata": {
    "slideshow": {
     "slide_type": "slide"
    }
   },
   "source": [
    "#### Variable patterns\n",
    "\n",
    "A variable pattern matches with any object, just like a wildcard!"
   ]
  },
  {
   "cell_type": "code",
   "execution_count": null,
   "metadata": {
    "slideshow": {
     "slide_type": "fragment"
    }
   },
   "outputs": [],
   "source": [
    "val hello: String = \"Hello\"\n",
    "val ahoy: String = \"Ahoy\"\n",
    "\n",
    "\"Ahoy\" match {\n",
    "  case hello => println(\"You have made a mistake\")\n",
    "  case ahoy => println(\"Yes, it is\")\n",
    "  case _ => println(\"no idea what's going on\")\n",
    "}"
   ]
  },
  {
   "cell_type": "code",
   "execution_count": null,
   "metadata": {
    "slideshow": {
     "slide_type": "fragment"
    }
   },
   "outputs": [],
   "source": [
    "\"Ahoy\" match {\n",
    "  case `hello` => println(\"You have made a mistake\")\n",
    "  case `ahoy` => println(\"Yes, it is\")\n",
    "  case _ => println(\"no idea what's going on\")\n",
    "}"
   ]
  },
  {
   "cell_type": "markdown",
   "metadata": {
    "slideshow": {
     "slide_type": "slide"
    }
   },
   "source": [
    "#### Constructor patterns\n",
    "\n",
    "This provides deep matches inside case classes.\n",
    "\n",
    "To show this, let's define a nested hierarchy of case classes and objects."
   ]
  },
  {
   "cell_type": "code",
   "execution_count": null,
   "metadata": {
    "slideshow": {
     "slide_type": "fragment"
    }
   },
   "outputs": [],
   "source": [
    "// An Enumeration would have been a better solution instead of these case objects,\n",
    "// but I did not want to complicate things even more.\n",
    "\n",
    "sealed abstract class ProgrammingLanguage\n",
    "case object Scala extends ProgrammingLanguage\n",
    "case object Python extends ProgrammingLanguage\n",
    "case object COBOL extends ProgrammingLanguage\n",
    "case object Haskell extends ProgrammingLanguage\n",
    "case object Clojure extends ProgrammingLanguage"
   ]
  },
  {
   "cell_type": "code",
   "execution_count": null,
   "metadata": {
    "slideshow": {
     "slide_type": "slide"
    }
   },
   "outputs": [],
   "source": [
    "sealed abstract class Employee {\n",
    "  val id: Int\n",
    "  val name: String\n",
    "  def greet: String = s\"Hello, $name!\"\n",
    "}\n",
    "\n",
    "case class CEO(id: Int, name: String, salary: Long) extends Employee {\n",
    "  override def greet: String = \"Yes, Master!\"\n",
    "}\n",
    "\n",
    "case class Engineer(id: Int,\n",
    "                    name: String,\n",
    "                    salary: Int,\n",
    "                    language: ProgrammingLanguage) extends Employee\n",
    "\n",
    "case class Trainee(id: Int, name: String, salary: Int, boss: Engineer) extends Employee {\n",
    "  override def greet: String = \"Hello, have you finished your task?\"\n",
    "}"
   ]
  },
  {
   "cell_type": "code",
   "execution_count": null,
   "metadata": {
    "slideshow": {
     "slide_type": "slide"
    }
   },
   "outputs": [],
   "source": [
    "val joe: Engineer = Engineer(id = 11, name = \"Joe\", salary = 60000, language = Haskell)\n",
    "val bill: Employee = Trainee(id = 101, name = \"Bill\", salary = 10000, boss = joe)"
   ]
  },
  {
   "cell_type": "code",
   "execution_count": null,
   "metadata": {
    "slideshow": {
     "slide_type": "fragment"
    }
   },
   "outputs": [],
   "source": [
    "bill match {\n",
    "  case Trainee(_, \"Adam\", _, `joe`) => println(\"Bill is called Adam???\")\n",
    "  case Engineer(_, _, _, _) => println(\"Bill is an engineer???\") // there is a better way to match type\n",
    "  case Trainee(_, _, _, Engineer(_, _, _, Haskell)) => println(\"Bill's boss knows Haskell!!\")\n",
    "  case Trainee(_, \"Bill\", _, _) => println(\"Bill is Bill indeed.\")\n",
    "  case _ => println(\"No one knows who this guy is.\")\n",
    "}"
   ]
  },
  {
   "cell_type": "markdown",
   "metadata": {
    "slideshow": {
     "slide_type": "slide"
    }
   },
   "source": [
    "#### Other patterns\n",
    "\n",
    "* sequence patterns\n",
    "* typed patterns\n",
    "* variable binding inside a pattern match"
   ]
  },
  {
   "cell_type": "code",
   "execution_count": null,
   "metadata": {
    "slideshow": {
     "slide_type": "slide"
    }
   },
   "outputs": [],
   "source": [
    "val list: List[Int] = List(1, 1, 3, 5, 8, 13)\n",
    "\n",
    "list match {\n",
    "  case Nil => println(\"The list is empty.\")\n",
    "  case x :: xs => println(s\"The head element is $x\")\n",
    "  // x :: xs means that the list has head element x and tail xs\n",
    "}\n",
    "\n",
    "list match {\n",
    "  case Nil => println(\"The list is empty.\")\n",
    "  case List(1, 2, 3, _*) => println(\"This list has length at least 3 starting with 1, 2 and 3.\")\n",
    "  case List(_, _, 3, _*) => println(\"The 3rd element is 3.\")\n",
    "  case _ => println(\"no match\")\n",
    "}"
   ]
  },
  {
   "cell_type": "code",
   "execution_count": null,
   "metadata": {
    "slideshow": {
     "slide_type": "slide"
    }
   },
   "outputs": [],
   "source": [
    "bill match {\n",
    "  case e: Engineer => println(\"Bill is an engineer?\")\n",
    "  case t: Trainee => println(\"Bill is a trainee.\")\n",
    "  case _ => println(\"Maybe he is the new CEO?\")\n",
    "}"
   ]
  },
  {
   "cell_type": "code",
   "execution_count": null,
   "metadata": {
    "slideshow": {
     "slide_type": "slide"
    }
   },
   "outputs": [],
   "source": [
    "bill match {\n",
    "  case Trainee(_, \"Adam\", _, joe) => println(\"Bill is called Adam???\")\n",
    "  case Engineer(_, _, _, _) => println(\"Bill is an engineer???\") // there is a better way to match type\n",
    "  case Trainee(_, _, _, billsBoss @ Engineer(_, _, _, Haskell)) =>\n",
    "    println(s\"Bill's boss is $billsBoss!!\")\n",
    "  case Trainee(_, \"Bill\", _, _) => println(\"Bill is Bill indeed.\")\n",
    "  case _ => println(\"No one knows who this guy is.\")\n",
    "}"
   ]
  },
  {
   "cell_type": "markdown",
   "metadata": {
    "slideshow": {
     "slide_type": "slide"
    }
   },
   "source": [
    "#### Pattern matches everywhere"
   ]
  },
  {
   "cell_type": "code",
   "execution_count": null,
   "metadata": {
    "slideshow": {
     "slide_type": "fragment"
    }
   },
   "outputs": [],
   "source": [
    "val Trainee(id, _, amount, _) = bill\n",
    "println(id)\n",
    "println(amount)\n",
    "\n",
    "val (a: Int, b: Int) = (0, 1)\n",
    "println(a)\n",
    "println(b)\n",
    "\n",
    "// and the list goes on and on ..."
   ]
  },
  {
   "cell_type": "markdown",
   "metadata": {
    "slideshow": {
     "slide_type": "slide"
    }
   },
   "source": [
    "But there are patterns that cannot be matched. Scala has type erasure, no information about type arguments is maintained at runtime."
   ]
  },
  {
   "cell_type": "code",
   "execution_count": null,
   "metadata": {
    "slideshow": {
     "slide_type": "fragment"
    }
   },
   "outputs": [],
   "source": [
    "val lst: List[Int] = List(1, 2, 5, 8)\n",
    "\n",
    "lst match {\n",
    "  case a: List[String] => println(\"this is a StringList\")\n",
    "  case b: List[Int] => println(\"this is an IntList\")\n",
    "}"
   ]
  }
 ],
 "metadata": {
  "celltoolbar": "Slideshow",
  "kernelspec": {
   "display_name": "Scala",
   "language": "scala",
   "name": "scala"
  },
  "language_info": {
   "codemirror_mode": "text/x-scala",
   "file_extension": ".scala",
   "mimetype": "text/x-scala",
   "name": "scala211",
   "nbconvert_exporter": "scala",
   "pygments_lexer": "scala",
   "version": "2.11.8"
  }
 },
 "nbformat": 4,
 "nbformat_minor": 2
}
